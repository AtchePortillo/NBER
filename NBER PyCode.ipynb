{
 "cells": [
  {
   "cell_type": "code",
   "execution_count": 2,
   "metadata": {},
   "outputs": [],
   "source": [
    "#import libraries needed for the program\n",
    "import pandas as pd\n",
    "import datetime\n",
    "import numpy as np\n"
   ]
  },
  {
   "cell_type": "code",
   "execution_count": 14,
   "metadata": {},
   "outputs": [],
   "source": [
    "# load a csv file to a DataFrame\n",
    "# use dates as index\n",
    "nber = pd.read_csv(\"NBERraw.csv\", parse_dates = True, index_col='date')\n",
    "#print(dfFromCsv)"
   ]
  },
  {
   "cell_type": "code",
   "execution_count": 21,
   "metadata": {},
   "outputs": [
    {
     "name": "stdout",
     "output_type": "stream",
     "text": [
      "<class 'pandas.core.frame.DataFrame'>\n",
      "DatetimeIndex: 879 entries, 1946-01-01 to 2019-03-01\n",
      "Data columns (total 6 columns):\n",
      "ffunds    777 non-null float64\n",
      "oil       879 non-null float64\n",
      "unemp     855 non-null float64\n",
      "infla     709 non-null float64\n",
      "earn      662 non-null float64\n",
      "baa       792 non-null float64\n",
      "dtypes: float64(6)\n",
      "memory usage: 48.1 KB\n"
     ]
    }
   ],
   "source": [
    "nber.info()"
   ]
  },
  {
   "cell_type": "code",
   "execution_count": 16,
   "metadata": {},
   "outputs": [],
   "source": [
    "# get column names and put into a list\n",
    "cols=nber.columns.values.tolist()"
   ]
  },
  {
   "cell_type": "code",
   "execution_count": 17,
   "metadata": {},
   "outputs": [
    {
     "data": {
      "text/plain": [
       "['ffunds', 'oil', 'unemp', 'infla', 'earn', 'baa']"
      ]
     },
     "execution_count": 17,
     "metadata": {},
     "output_type": "execute_result"
    }
   ],
   "source": [
    "cols"
   ]
  },
  {
   "cell_type": "code",
   "execution_count": 252,
   "metadata": {},
   "outputs": [],
   "source": []
  },
  {
   "cell_type": "code",
   "execution_count": 77,
   "metadata": {},
   "outputs": [],
   "source": [
    "# get annual average of each column for each recession year\n",
    "\n",
    "yr1 = nber.loc[\"1960-04-01\":\"1961-04-01\"].mean()\n",
    "yr2 = nber.loc[\"1969-12-01\":\"1970-12-01\"].mean()\n",
    "yr3 = nber.loc[\"1973-11-01\":\"1974-11-01\"].mean()\n",
    "yr4 = nber.loc[\"1980-01-01\":\"1980-01-01\"].mean()\n",
    "yr5 = nber.loc[\"1981-07-01\":\"1982-07-01\"].mean()\n",
    "yr6 = nber.loc[\"1990-07-01\":\"1991-07-01\"].mean()\n",
    "yr7 = nber.loc[\"2001-03-01\":\"2002-03-01\"].mean()\n",
    "yr8 = nber.loc[\"2007-12-01\":\"2008-12-01\"].mean()\n",
    "\n",
    "\n",
    "yrs = [yr1, yr2, yr3, yr4, yr5, yr6, yr7, yr8]\n",
    "\n",
    "\n",
    "# put result into a list\n",
    "yrs\n",
    "listMean=[]\n",
    "\n",
    "for i in yrs:\n",
    "    a = i.tolist()\n",
    "    listMean.append(a)"
   ]
  },
  {
   "cell_type": "code",
   "execution_count": null,
   "metadata": {},
   "outputs": [],
   "source": []
  },
  {
   "cell_type": "code",
   "execution_count": 243,
   "metadata": {
    "scrolled": true
   },
   "outputs": [],
   "source": [
    "#a = str(listMean).replace('[','').replace(']','')\n",
    "#mean = str(listMean).replace('[','').replace(']','').replace('HourlyEarnings','').replace('type: float64','').replace('\\nd','')"
   ]
  },
  {
   "cell_type": "code",
   "execution_count": 43,
   "metadata": {},
   "outputs": [],
   "source": [
    "# transform list into data frame\n",
    "df1=pd.DataFrame(listMean)"
   ]
  },
  {
   "cell_type": "code",
   "execution_count": 44,
   "metadata": {},
   "outputs": [
    {
     "data": {
      "text/html": [
       "<div>\n",
       "<style scoped>\n",
       "    .dataframe tbody tr th:only-of-type {\n",
       "        vertical-align: middle;\n",
       "    }\n",
       "\n",
       "    .dataframe tbody tr th {\n",
       "        vertical-align: top;\n",
       "    }\n",
       "\n",
       "    .dataframe thead th {\n",
       "        text-align: right;\n",
       "    }\n",
       "</style>\n",
       "<table border=\"1\" class=\"dataframe\">\n",
       "  <thead>\n",
       "    <tr style=\"text-align: right;\">\n",
       "      <th></th>\n",
       "      <th>0</th>\n",
       "      <th>1</th>\n",
       "      <th>2</th>\n",
       "      <th>3</th>\n",
       "      <th>4</th>\n",
       "      <th>5</th>\n",
       "    </tr>\n",
       "  </thead>\n",
       "  <tbody>\n",
       "    <tr>\n",
       "      <th>0</th>\n",
       "      <td>2.637692</td>\n",
       "      <td>2.970000</td>\n",
       "      <td>6.038462</td>\n",
       "      <td>1.167946</td>\n",
       "      <td>NaN</td>\n",
       "      <td>1.189231</td>\n",
       "    </tr>\n",
       "    <tr>\n",
       "      <th>1</th>\n",
       "      <td>7.318462</td>\n",
       "      <td>3.350769</td>\n",
       "      <td>4.869231</td>\n",
       "      <td>6.237692</td>\n",
       "      <td>3.396923</td>\n",
       "      <td>1.698462</td>\n",
       "    </tr>\n",
       "    <tr>\n",
       "      <th>2</th>\n",
       "      <td>10.575385</td>\n",
       "      <td>9.379231</td>\n",
       "      <td>5.400000</td>\n",
       "      <td>7.431538</td>\n",
       "      <td>4.395385</td>\n",
       "      <td>1.807692</td>\n",
       "    </tr>\n",
       "    <tr>\n",
       "      <th>3</th>\n",
       "      <td>13.820000</td>\n",
       "      <td>32.500000</td>\n",
       "      <td>6.300000</td>\n",
       "      <td>11.990000</td>\n",
       "      <td>6.570000</td>\n",
       "      <td>1.620000</td>\n",
       "    </tr>\n",
       "    <tr>\n",
       "      <th>4</th>\n",
       "      <td>14.792308</td>\n",
       "      <td>34.346154</td>\n",
       "      <td>8.576923</td>\n",
       "      <td>9.695385</td>\n",
       "      <td>7.687692</td>\n",
       "      <td>2.484615</td>\n",
       "    </tr>\n",
       "    <tr>\n",
       "      <th>5</th>\n",
       "      <td>6.953846</td>\n",
       "      <td>24.929231</td>\n",
       "      <td>6.353846</td>\n",
       "      <td>5.253846</td>\n",
       "      <td>10.375385</td>\n",
       "      <td>1.945385</td>\n",
       "    </tr>\n",
       "    <tr>\n",
       "      <th>6</th>\n",
       "      <td>3.106154</td>\n",
       "      <td>24.363846</td>\n",
       "      <td>5.046154</td>\n",
       "      <td>2.637692</td>\n",
       "      <td>14.632308</td>\n",
       "      <td>2.943077</td>\n",
       "    </tr>\n",
       "    <tr>\n",
       "      <th>7</th>\n",
       "      <td>2.105385</td>\n",
       "      <td>98.964615</td>\n",
       "      <td>5.738462</td>\n",
       "      <td>2.308698</td>\n",
       "      <td>18.036923</td>\n",
       "      <td>3.685385</td>\n",
       "    </tr>\n",
       "  </tbody>\n",
       "</table>\n",
       "</div>"
      ],
      "text/plain": [
       "           0          1         2          3          4         5\n",
       "0   2.637692   2.970000  6.038462   1.167946        NaN  1.189231\n",
       "1   7.318462   3.350769  4.869231   6.237692   3.396923  1.698462\n",
       "2  10.575385   9.379231  5.400000   7.431538   4.395385  1.807692\n",
       "3  13.820000  32.500000  6.300000  11.990000   6.570000  1.620000\n",
       "4  14.792308  34.346154  8.576923   9.695385   7.687692  2.484615\n",
       "5   6.953846  24.929231  6.353846   5.253846  10.375385  1.945385\n",
       "6   3.106154  24.363846  5.046154   2.637692  14.632308  2.943077\n",
       "7   2.105385  98.964615  5.738462   2.308698  18.036923  3.685385"
      ]
     },
     "execution_count": 44,
     "metadata": {},
     "output_type": "execute_result"
    }
   ],
   "source": [
    "df1"
   ]
  },
  {
   "cell_type": "code",
   "execution_count": 249,
   "metadata": {},
   "outputs": [],
   "source": []
  },
  {
   "cell_type": "code",
   "execution_count": 45,
   "metadata": {},
   "outputs": [],
   "source": [
    "# change column names\n",
    "df1.columns = cols"
   ]
  },
  {
   "cell_type": "code",
   "execution_count": 46,
   "metadata": {},
   "outputs": [
    {
     "data": {
      "text/html": [
       "<div>\n",
       "<style scoped>\n",
       "    .dataframe tbody tr th:only-of-type {\n",
       "        vertical-align: middle;\n",
       "    }\n",
       "\n",
       "    .dataframe tbody tr th {\n",
       "        vertical-align: top;\n",
       "    }\n",
       "\n",
       "    .dataframe thead th {\n",
       "        text-align: right;\n",
       "    }\n",
       "</style>\n",
       "<table border=\"1\" class=\"dataframe\">\n",
       "  <thead>\n",
       "    <tr style=\"text-align: right;\">\n",
       "      <th></th>\n",
       "      <th>ffunds</th>\n",
       "      <th>oil</th>\n",
       "      <th>unemp</th>\n",
       "      <th>infla</th>\n",
       "      <th>earn</th>\n",
       "      <th>baa</th>\n",
       "    </tr>\n",
       "  </thead>\n",
       "  <tbody>\n",
       "    <tr>\n",
       "      <th>0</th>\n",
       "      <td>2.637692</td>\n",
       "      <td>2.970000</td>\n",
       "      <td>6.038462</td>\n",
       "      <td>1.167946</td>\n",
       "      <td>NaN</td>\n",
       "      <td>1.189231</td>\n",
       "    </tr>\n",
       "    <tr>\n",
       "      <th>1</th>\n",
       "      <td>7.318462</td>\n",
       "      <td>3.350769</td>\n",
       "      <td>4.869231</td>\n",
       "      <td>6.237692</td>\n",
       "      <td>3.396923</td>\n",
       "      <td>1.698462</td>\n",
       "    </tr>\n",
       "    <tr>\n",
       "      <th>2</th>\n",
       "      <td>10.575385</td>\n",
       "      <td>9.379231</td>\n",
       "      <td>5.400000</td>\n",
       "      <td>7.431538</td>\n",
       "      <td>4.395385</td>\n",
       "      <td>1.807692</td>\n",
       "    </tr>\n",
       "    <tr>\n",
       "      <th>3</th>\n",
       "      <td>13.820000</td>\n",
       "      <td>32.500000</td>\n",
       "      <td>6.300000</td>\n",
       "      <td>11.990000</td>\n",
       "      <td>6.570000</td>\n",
       "      <td>1.620000</td>\n",
       "    </tr>\n",
       "    <tr>\n",
       "      <th>4</th>\n",
       "      <td>14.792308</td>\n",
       "      <td>34.346154</td>\n",
       "      <td>8.576923</td>\n",
       "      <td>9.695385</td>\n",
       "      <td>7.687692</td>\n",
       "      <td>2.484615</td>\n",
       "    </tr>\n",
       "    <tr>\n",
       "      <th>5</th>\n",
       "      <td>6.953846</td>\n",
       "      <td>24.929231</td>\n",
       "      <td>6.353846</td>\n",
       "      <td>5.253846</td>\n",
       "      <td>10.375385</td>\n",
       "      <td>1.945385</td>\n",
       "    </tr>\n",
       "    <tr>\n",
       "      <th>6</th>\n",
       "      <td>3.106154</td>\n",
       "      <td>24.363846</td>\n",
       "      <td>5.046154</td>\n",
       "      <td>2.637692</td>\n",
       "      <td>14.632308</td>\n",
       "      <td>2.943077</td>\n",
       "    </tr>\n",
       "    <tr>\n",
       "      <th>7</th>\n",
       "      <td>2.105385</td>\n",
       "      <td>98.964615</td>\n",
       "      <td>5.738462</td>\n",
       "      <td>2.308698</td>\n",
       "      <td>18.036923</td>\n",
       "      <td>3.685385</td>\n",
       "    </tr>\n",
       "  </tbody>\n",
       "</table>\n",
       "</div>"
      ],
      "text/plain": [
       "      ffunds        oil     unemp      infla       earn       baa\n",
       "0   2.637692   2.970000  6.038462   1.167946        NaN  1.189231\n",
       "1   7.318462   3.350769  4.869231   6.237692   3.396923  1.698462\n",
       "2  10.575385   9.379231  5.400000   7.431538   4.395385  1.807692\n",
       "3  13.820000  32.500000  6.300000  11.990000   6.570000  1.620000\n",
       "4  14.792308  34.346154  8.576923   9.695385   7.687692  2.484615\n",
       "5   6.953846  24.929231  6.353846   5.253846  10.375385  1.945385\n",
       "6   3.106154  24.363846  5.046154   2.637692  14.632308  2.943077\n",
       "7   2.105385  98.964615  5.738462   2.308698  18.036923  3.685385"
      ]
     },
     "execution_count": 46,
     "metadata": {},
     "output_type": "execute_result"
    }
   ],
   "source": [
    "df1"
   ]
  },
  {
   "cell_type": "code",
   "execution_count": 27,
   "metadata": {},
   "outputs": [],
   "source": [
    "# safe to a csv file\n",
    "df1.to_csv(\"out_rec_yr.csv\")"
   ]
  },
  {
   "cell_type": "code",
   "execution_count": null,
   "metadata": {},
   "outputs": [],
   "source": []
  },
  {
   "cell_type": "code",
   "execution_count": null,
   "metadata": {},
   "outputs": [],
   "source": []
  },
  {
   "cell_type": "code",
   "execution_count": 47,
   "metadata": {},
   "outputs": [],
   "source": [
    "yr1 = nber.loc[\"1959-04-01\":\"1960-04-01\"].mean()\n",
    "yr2 = nber.loc[\"1968-12-01\":\"1969-12-01\"].mean()\n",
    "yr3 = nber.loc[\"1972-11-01\":\"1973-11-01\"].mean()\n",
    "yr4 = nber.loc[\"1979-01-01\":\"1980-01-01\"].mean()\n",
    "yr5 = nber.loc[\"1980-07-01\":\"1981-07-01\"].mean()\n",
    "yr6 = nber.loc[\"1989-07-01\":\"1990-07-01\"].mean()\n",
    "yr7 = nber.loc[\"2000-03-01\":\"2001-03-01\"].mean()\n",
    "yr8 = nber.loc[\"2006-12-01\":\"2007-12-01\"].mean()\n",
    "\n",
    "yrs = [yr1, yr2, yr3, yr4, yr5, yr6, yr7, yr8]\n",
    "\n",
    "#listMean=[]\n",
    "#listMean.append(yr1)\n",
    "#listMean.append(yr2)\n",
    "#listMean.append(yr3)\n",
    "yrs\n",
    "listMean=[]\n",
    "\n",
    "for i in yrs:\n",
    "    a = i.tolist()\n",
    "    listMean.append(a)"
   ]
  },
  {
   "cell_type": "code",
   "execution_count": 48,
   "metadata": {},
   "outputs": [],
   "source": [
    "df2=pd.DataFrame(listMean)"
   ]
  },
  {
   "cell_type": "code",
   "execution_count": 49,
   "metadata": {},
   "outputs": [
    {
     "data": {
      "text/html": [
       "<div>\n",
       "<style scoped>\n",
       "    .dataframe tbody tr th:only-of-type {\n",
       "        vertical-align: middle;\n",
       "    }\n",
       "\n",
       "    .dataframe tbody tr th {\n",
       "        vertical-align: top;\n",
       "    }\n",
       "\n",
       "    .dataframe thead th {\n",
       "        text-align: right;\n",
       "    }\n",
       "</style>\n",
       "<table border=\"1\" class=\"dataframe\">\n",
       "  <thead>\n",
       "    <tr style=\"text-align: right;\">\n",
       "      <th></th>\n",
       "      <th>0</th>\n",
       "      <th>1</th>\n",
       "      <th>2</th>\n",
       "      <th>3</th>\n",
       "      <th>4</th>\n",
       "      <th>5</th>\n",
       "    </tr>\n",
       "  </thead>\n",
       "  <tbody>\n",
       "    <tr>\n",
       "      <th>0</th>\n",
       "      <td>3.666923</td>\n",
       "      <td>2.970000</td>\n",
       "      <td>5.269231</td>\n",
       "      <td>2.086950</td>\n",
       "      <td>NaN</td>\n",
       "      <td>0.722308</td>\n",
       "    </tr>\n",
       "    <tr>\n",
       "      <th>1</th>\n",
       "      <td>8.036154</td>\n",
       "      <td>3.277692</td>\n",
       "      <td>3.484615</td>\n",
       "      <td>5.746154</td>\n",
       "      <td>3.209231</td>\n",
       "      <td>1.146923</td>\n",
       "    </tr>\n",
       "    <tr>\n",
       "      <th>2</th>\n",
       "      <td>8.090000</td>\n",
       "      <td>3.790769</td>\n",
       "      <td>4.915385</td>\n",
       "      <td>3.306923</td>\n",
       "      <td>4.107692</td>\n",
       "      <td>1.409231</td>\n",
       "    </tr>\n",
       "    <tr>\n",
       "      <th>3</th>\n",
       "      <td>11.396154</td>\n",
       "      <td>23.180769</td>\n",
       "      <td>5.884615</td>\n",
       "      <td>9.893077</td>\n",
       "      <td>6.356923</td>\n",
       "      <td>1.276154</td>\n",
       "    </tr>\n",
       "    <tr>\n",
       "      <th>4</th>\n",
       "      <td>15.320000</td>\n",
       "      <td>37.269231</td>\n",
       "      <td>7.453846</td>\n",
       "      <td>11.104615</td>\n",
       "      <td>7.170769</td>\n",
       "      <td>2.168462</td>\n",
       "    </tr>\n",
       "    <tr>\n",
       "      <th>5</th>\n",
       "      <td>8.516923</td>\n",
       "      <td>19.711538</td>\n",
       "      <td>5.323077</td>\n",
       "      <td>4.607692</td>\n",
       "      <td>10.020000</td>\n",
       "      <td>1.746923</td>\n",
       "    </tr>\n",
       "    <tr>\n",
       "      <th>6</th>\n",
       "      <td>6.186923</td>\n",
       "      <td>30.267692</td>\n",
       "      <td>4.015385</td>\n",
       "      <td>2.543077</td>\n",
       "      <td>14.130000</td>\n",
       "      <td>2.543846</td>\n",
       "    </tr>\n",
       "    <tr>\n",
       "      <th>7</th>\n",
       "      <td>5.036154</td>\n",
       "      <td>71.567692</td>\n",
       "      <td>4.600000</td>\n",
       "      <td>2.355385</td>\n",
       "      <td>17.380769</td>\n",
       "      <td>1.838462</td>\n",
       "    </tr>\n",
       "  </tbody>\n",
       "</table>\n",
       "</div>"
      ],
      "text/plain": [
       "           0          1         2          3          4         5\n",
       "0   3.666923   2.970000  5.269231   2.086950        NaN  0.722308\n",
       "1   8.036154   3.277692  3.484615   5.746154   3.209231  1.146923\n",
       "2   8.090000   3.790769  4.915385   3.306923   4.107692  1.409231\n",
       "3  11.396154  23.180769  5.884615   9.893077   6.356923  1.276154\n",
       "4  15.320000  37.269231  7.453846  11.104615   7.170769  2.168462\n",
       "5   8.516923  19.711538  5.323077   4.607692  10.020000  1.746923\n",
       "6   6.186923  30.267692  4.015385   2.543077  14.130000  2.543846\n",
       "7   5.036154  71.567692  4.600000   2.355385  17.380769  1.838462"
      ]
     },
     "execution_count": 49,
     "metadata": {},
     "output_type": "execute_result"
    }
   ],
   "source": [
    "df2"
   ]
  },
  {
   "cell_type": "code",
   "execution_count": 50,
   "metadata": {},
   "outputs": [],
   "source": [
    "df2.columns = cols"
   ]
  },
  {
   "cell_type": "code",
   "execution_count": 33,
   "metadata": {},
   "outputs": [],
   "source": [
    "df2.to_csv(\"out_rec_1yr_bfr.csv\")"
   ]
  },
  {
   "cell_type": "code",
   "execution_count": null,
   "metadata": {},
   "outputs": [],
   "source": []
  },
  {
   "cell_type": "code",
   "execution_count": null,
   "metadata": {},
   "outputs": [],
   "source": []
  },
  {
   "cell_type": "code",
   "execution_count": 51,
   "metadata": {},
   "outputs": [],
   "source": [
    "yr1 = nber.loc[\"1958-04-01\":\"1959-04-01\"].mean()\n",
    "yr2 = nber.loc[\"1967-12-01\":\"1968-12-01\"].mean()\n",
    "yr3 = nber.loc[\"1971-11-01\":\"1972-11-01\"].mean()\n",
    "yr4 = nber.loc[\"1978-01-01\":\"1979-01-01\"].mean()\n",
    "yr5 = nber.loc[\"1979-07-01\":\"1980-07-01\"].mean()\n",
    "yr6 = nber.loc[\"1988-07-01\":\"1989-07-01\"].mean()\n",
    "yr7 = nber.loc[\"1999-03-01\":\"2000-03-01\"].mean()\n",
    "yr8 = nber.loc[\"2005-12-01\":\"2006-12-01\"].mean()\n",
    "\n",
    "yrs = [yr1, yr2, yr3, yr4, yr5, yr6, yr7, yr8]\n",
    "\n",
    "#listMean=[]\n",
    "#listMean.append(yr1)\n",
    "#listMean.append(yr2)\n",
    "#listMean.append(yr3)\n",
    "yrs\n",
    "listMean=[]\n",
    "\n",
    "for i in yrs:\n",
    "    a = i.tolist()\n",
    "    listMean.append(a)"
   ]
  },
  {
   "cell_type": "code",
   "execution_count": 52,
   "metadata": {},
   "outputs": [],
   "source": [
    "df3=pd.DataFrame(listMean)"
   ]
  },
  {
   "cell_type": "code",
   "execution_count": 53,
   "metadata": {},
   "outputs": [],
   "source": [
    "df3.columns = cols"
   ]
  },
  {
   "cell_type": "code",
   "execution_count": 54,
   "metadata": {},
   "outputs": [
    {
     "data": {
      "text/html": [
       "<div>\n",
       "<style scoped>\n",
       "    .dataframe tbody tr th:only-of-type {\n",
       "        vertical-align: middle;\n",
       "    }\n",
       "\n",
       "    .dataframe tbody tr th {\n",
       "        vertical-align: top;\n",
       "    }\n",
       "\n",
       "    .dataframe thead th {\n",
       "        text-align: right;\n",
       "    }\n",
       "</style>\n",
       "<table border=\"1\" class=\"dataframe\">\n",
       "  <thead>\n",
       "    <tr style=\"text-align: right;\">\n",
       "      <th></th>\n",
       "      <th>ffunds</th>\n",
       "      <th>oil</th>\n",
       "      <th>unemp</th>\n",
       "      <th>infla</th>\n",
       "      <th>earn</th>\n",
       "      <th>baa</th>\n",
       "    </tr>\n",
       "  </thead>\n",
       "  <tbody>\n",
       "    <tr>\n",
       "      <th>0</th>\n",
       "      <td>1.842308</td>\n",
       "      <td>3.033077</td>\n",
       "      <td>6.607692</td>\n",
       "      <td>NaN</td>\n",
       "      <td>NaN</td>\n",
       "      <td>1.173846</td>\n",
       "    </tr>\n",
       "    <tr>\n",
       "      <th>1</th>\n",
       "      <td>5.568462</td>\n",
       "      <td>3.070000</td>\n",
       "      <td>3.576923</td>\n",
       "      <td>4.566923</td>\n",
       "      <td>3.016154</td>\n",
       "      <td>1.285385</td>\n",
       "    </tr>\n",
       "    <tr>\n",
       "      <th>2</th>\n",
       "      <td>4.376154</td>\n",
       "      <td>3.560000</td>\n",
       "      <td>5.692308</td>\n",
       "      <td>3.090769</td>\n",
       "      <td>3.863846</td>\n",
       "      <td>2.060769</td>\n",
       "    </tr>\n",
       "    <tr>\n",
       "      <th>3</th>\n",
       "      <td>8.095385</td>\n",
       "      <td>14.850000</td>\n",
       "      <td>6.053846</td>\n",
       "      <td>7.389231</td>\n",
       "      <td>5.895385</td>\n",
       "      <td>1.074615</td>\n",
       "    </tr>\n",
       "    <tr>\n",
       "      <th>4</th>\n",
       "      <td>12.753846</td>\n",
       "      <td>33.442308</td>\n",
       "      <td>6.476923</td>\n",
       "      <td>11.553846</td>\n",
       "      <td>6.599231</td>\n",
       "      <td>1.807692</td>\n",
       "    </tr>\n",
       "    <tr>\n",
       "      <th>5</th>\n",
       "      <td>8.931538</td>\n",
       "      <td>17.347692</td>\n",
       "      <td>5.300000</td>\n",
       "      <td>4.553846</td>\n",
       "      <td>9.636923</td>\n",
       "      <td>1.656154</td>\n",
       "    </tr>\n",
       "    <tr>\n",
       "      <th>6</th>\n",
       "      <td>5.175385</td>\n",
       "      <td>22.535385</td>\n",
       "      <td>4.153846</td>\n",
       "      <td>2.080769</td>\n",
       "      <td>13.590769</td>\n",
       "      <td>2.107692</td>\n",
       "    </tr>\n",
       "    <tr>\n",
       "      <th>7</th>\n",
       "      <td>4.902308</td>\n",
       "      <td>65.590000</td>\n",
       "      <td>4.630769</td>\n",
       "      <td>2.475385</td>\n",
       "      <td>16.711538</td>\n",
       "      <td>1.700000</td>\n",
       "    </tr>\n",
       "  </tbody>\n",
       "</table>\n",
       "</div>"
      ],
      "text/plain": [
       "      ffunds        oil     unemp      infla       earn       baa\n",
       "0   1.842308   3.033077  6.607692        NaN        NaN  1.173846\n",
       "1   5.568462   3.070000  3.576923   4.566923   3.016154  1.285385\n",
       "2   4.376154   3.560000  5.692308   3.090769   3.863846  2.060769\n",
       "3   8.095385  14.850000  6.053846   7.389231   5.895385  1.074615\n",
       "4  12.753846  33.442308  6.476923  11.553846   6.599231  1.807692\n",
       "5   8.931538  17.347692  5.300000   4.553846   9.636923  1.656154\n",
       "6   5.175385  22.535385  4.153846   2.080769  13.590769  2.107692\n",
       "7   4.902308  65.590000  4.630769   2.475385  16.711538  1.700000"
      ]
     },
     "execution_count": 54,
     "metadata": {},
     "output_type": "execute_result"
    }
   ],
   "source": [
    "df3"
   ]
  },
  {
   "cell_type": "code",
   "execution_count": 59,
   "metadata": {},
   "outputs": [],
   "source": [
    "df3.to_csv(\"out_rec_2yr_bfr.csv\")"
   ]
  },
  {
   "cell_type": "code",
   "execution_count": null,
   "metadata": {},
   "outputs": [],
   "source": []
  },
  {
   "cell_type": "code",
   "execution_count": null,
   "metadata": {},
   "outputs": [],
   "source": []
  },
  {
   "cell_type": "code",
   "execution_count": null,
   "metadata": {},
   "outputs": [],
   "source": []
  },
  {
   "cell_type": "code",
   "execution_count": 60,
   "metadata": {},
   "outputs": [],
   "source": [
    "bigdata = pd.concat([df1, df2, df3], ignore_index=True, axis=1)"
   ]
  },
  {
   "cell_type": "code",
   "execution_count": null,
   "metadata": {},
   "outputs": [],
   "source": []
  },
  {
   "cell_type": "code",
   "execution_count": 62,
   "metadata": {},
   "outputs": [],
   "source": [
    "cols2 = ['ffunds', 'oil', 'unemp', 'infla', 'earn', 'baa',\n",
    "        'ffunds', 'oil', 'unemp', 'infla', 'earn', 'baa',\n",
    "        'ffunds', 'oil', 'unemp', 'infla', 'earn', 'baa']\n"
   ]
  },
  {
   "cell_type": "code",
   "execution_count": 67,
   "metadata": {},
   "outputs": [],
   "source": [
    "cols2 = [\"1yr_bfr_\" + cols for cols in cols]"
   ]
  },
  {
   "cell_type": "code",
   "execution_count": 68,
   "metadata": {},
   "outputs": [
    {
     "data": {
      "text/plain": [
       "['1yr_bfr_ffunds',\n",
       " '1yr_bfr_oil',\n",
       " '1yr_bfr_unemp',\n",
       " '1yr_bfr_infla',\n",
       " '1yr_bfr_earn',\n",
       " '1yr_bfr_baa']"
      ]
     },
     "execution_count": 68,
     "metadata": {},
     "output_type": "execute_result"
    }
   ],
   "source": [
    "cols2"
   ]
  },
  {
   "cell_type": "code",
   "execution_count": 69,
   "metadata": {},
   "outputs": [],
   "source": [
    "cols3 = [\"2yr_bfr_\" + cols for cols in cols]"
   ]
  },
  {
   "cell_type": "code",
   "execution_count": 70,
   "metadata": {},
   "outputs": [
    {
     "data": {
      "text/plain": [
       "['2yr_bfr_ffunds',\n",
       " '2yr_bfr_oil',\n",
       " '2yr_bfr_unemp',\n",
       " '2yr_bfr_infla',\n",
       " '2yr_bfr_earn',\n",
       " '2yr_bfr_baa']"
      ]
     },
     "execution_count": 70,
     "metadata": {},
     "output_type": "execute_result"
    }
   ],
   "source": [
    "cols3"
   ]
  },
  {
   "cell_type": "code",
   "execution_count": 71,
   "metadata": {},
   "outputs": [],
   "source": [
    "colsname = [cols+cols2+cols3]"
   ]
  },
  {
   "cell_type": "code",
   "execution_count": 72,
   "metadata": {},
   "outputs": [
    {
     "data": {
      "text/plain": [
       "[['ffunds',\n",
       "  'oil',\n",
       "  'unemp',\n",
       "  'infla',\n",
       "  'earn',\n",
       "  'baa',\n",
       "  '1yr_bfr_ffunds',\n",
       "  '1yr_bfr_oil',\n",
       "  '1yr_bfr_unemp',\n",
       "  '1yr_bfr_infla',\n",
       "  '1yr_bfr_earn',\n",
       "  '1yr_bfr_baa',\n",
       "  '2yr_bfr_ffunds',\n",
       "  '2yr_bfr_oil',\n",
       "  '2yr_bfr_unemp',\n",
       "  '2yr_bfr_infla',\n",
       "  '2yr_bfr_earn',\n",
       "  '2yr_bfr_baa']]"
      ]
     },
     "execution_count": 72,
     "metadata": {},
     "output_type": "execute_result"
    }
   ],
   "source": [
    "colsname"
   ]
  },
  {
   "cell_type": "code",
   "execution_count": null,
   "metadata": {},
   "outputs": [],
   "source": []
  },
  {
   "cell_type": "code",
   "execution_count": null,
   "metadata": {},
   "outputs": [],
   "source": []
  },
  {
   "cell_type": "code",
   "execution_count": 73,
   "metadata": {},
   "outputs": [],
   "source": [
    "bigdata.columns = colsname"
   ]
  },
  {
   "cell_type": "code",
   "execution_count": 74,
   "metadata": {
    "scrolled": true
   },
   "outputs": [
    {
     "data": {
      "text/html": [
       "<div>\n",
       "<style scoped>\n",
       "    .dataframe tbody tr th:only-of-type {\n",
       "        vertical-align: middle;\n",
       "    }\n",
       "\n",
       "    .dataframe tbody tr th {\n",
       "        vertical-align: top;\n",
       "    }\n",
       "\n",
       "    .dataframe thead tr th {\n",
       "        text-align: left;\n",
       "    }\n",
       "</style>\n",
       "<table border=\"1\" class=\"dataframe\">\n",
       "  <thead>\n",
       "    <tr>\n",
       "      <th></th>\n",
       "      <th>ffunds</th>\n",
       "      <th>oil</th>\n",
       "      <th>unemp</th>\n",
       "      <th>infla</th>\n",
       "      <th>earn</th>\n",
       "      <th>baa</th>\n",
       "      <th>1yr_bfr_ffunds</th>\n",
       "      <th>1yr_bfr_oil</th>\n",
       "      <th>1yr_bfr_unemp</th>\n",
       "      <th>1yr_bfr_infla</th>\n",
       "      <th>1yr_bfr_earn</th>\n",
       "      <th>1yr_bfr_baa</th>\n",
       "      <th>2yr_bfr_ffunds</th>\n",
       "      <th>2yr_bfr_oil</th>\n",
       "      <th>2yr_bfr_unemp</th>\n",
       "      <th>2yr_bfr_infla</th>\n",
       "      <th>2yr_bfr_earn</th>\n",
       "      <th>2yr_bfr_baa</th>\n",
       "    </tr>\n",
       "  </thead>\n",
       "  <tbody>\n",
       "    <tr>\n",
       "      <th>0</th>\n",
       "      <td>2.637692</td>\n",
       "      <td>2.970000</td>\n",
       "      <td>6.038462</td>\n",
       "      <td>1.167946</td>\n",
       "      <td>NaN</td>\n",
       "      <td>1.189231</td>\n",
       "      <td>3.666923</td>\n",
       "      <td>2.970000</td>\n",
       "      <td>5.269231</td>\n",
       "      <td>2.086950</td>\n",
       "      <td>NaN</td>\n",
       "      <td>0.722308</td>\n",
       "      <td>1.842308</td>\n",
       "      <td>3.033077</td>\n",
       "      <td>6.607692</td>\n",
       "      <td>NaN</td>\n",
       "      <td>NaN</td>\n",
       "      <td>1.173846</td>\n",
       "    </tr>\n",
       "    <tr>\n",
       "      <th>1</th>\n",
       "      <td>7.318462</td>\n",
       "      <td>3.350769</td>\n",
       "      <td>4.869231</td>\n",
       "      <td>6.237692</td>\n",
       "      <td>3.396923</td>\n",
       "      <td>1.698462</td>\n",
       "      <td>8.036154</td>\n",
       "      <td>3.277692</td>\n",
       "      <td>3.484615</td>\n",
       "      <td>5.746154</td>\n",
       "      <td>3.209231</td>\n",
       "      <td>1.146923</td>\n",
       "      <td>5.568462</td>\n",
       "      <td>3.070000</td>\n",
       "      <td>3.576923</td>\n",
       "      <td>4.566923</td>\n",
       "      <td>3.016154</td>\n",
       "      <td>1.285385</td>\n",
       "    </tr>\n",
       "    <tr>\n",
       "      <th>2</th>\n",
       "      <td>10.575385</td>\n",
       "      <td>9.379231</td>\n",
       "      <td>5.400000</td>\n",
       "      <td>7.431538</td>\n",
       "      <td>4.395385</td>\n",
       "      <td>1.807692</td>\n",
       "      <td>8.090000</td>\n",
       "      <td>3.790769</td>\n",
       "      <td>4.915385</td>\n",
       "      <td>3.306923</td>\n",
       "      <td>4.107692</td>\n",
       "      <td>1.409231</td>\n",
       "      <td>4.376154</td>\n",
       "      <td>3.560000</td>\n",
       "      <td>5.692308</td>\n",
       "      <td>3.090769</td>\n",
       "      <td>3.863846</td>\n",
       "      <td>2.060769</td>\n",
       "    </tr>\n",
       "    <tr>\n",
       "      <th>3</th>\n",
       "      <td>13.820000</td>\n",
       "      <td>32.500000</td>\n",
       "      <td>6.300000</td>\n",
       "      <td>11.990000</td>\n",
       "      <td>6.570000</td>\n",
       "      <td>1.620000</td>\n",
       "      <td>11.396154</td>\n",
       "      <td>23.180769</td>\n",
       "      <td>5.884615</td>\n",
       "      <td>9.893077</td>\n",
       "      <td>6.356923</td>\n",
       "      <td>1.276154</td>\n",
       "      <td>8.095385</td>\n",
       "      <td>14.850000</td>\n",
       "      <td>6.053846</td>\n",
       "      <td>7.389231</td>\n",
       "      <td>5.895385</td>\n",
       "      <td>1.074615</td>\n",
       "    </tr>\n",
       "    <tr>\n",
       "      <th>4</th>\n",
       "      <td>14.792308</td>\n",
       "      <td>34.346154</td>\n",
       "      <td>8.576923</td>\n",
       "      <td>9.695385</td>\n",
       "      <td>7.687692</td>\n",
       "      <td>2.484615</td>\n",
       "      <td>15.320000</td>\n",
       "      <td>37.269231</td>\n",
       "      <td>7.453846</td>\n",
       "      <td>11.104615</td>\n",
       "      <td>7.170769</td>\n",
       "      <td>2.168462</td>\n",
       "      <td>12.753846</td>\n",
       "      <td>33.442308</td>\n",
       "      <td>6.476923</td>\n",
       "      <td>11.553846</td>\n",
       "      <td>6.599231</td>\n",
       "      <td>1.807692</td>\n",
       "    </tr>\n",
       "    <tr>\n",
       "      <th>5</th>\n",
       "      <td>6.953846</td>\n",
       "      <td>24.929231</td>\n",
       "      <td>6.353846</td>\n",
       "      <td>5.253846</td>\n",
       "      <td>10.375385</td>\n",
       "      <td>1.945385</td>\n",
       "      <td>8.516923</td>\n",
       "      <td>19.711538</td>\n",
       "      <td>5.323077</td>\n",
       "      <td>4.607692</td>\n",
       "      <td>10.020000</td>\n",
       "      <td>1.746923</td>\n",
       "      <td>8.931538</td>\n",
       "      <td>17.347692</td>\n",
       "      <td>5.300000</td>\n",
       "      <td>4.553846</td>\n",
       "      <td>9.636923</td>\n",
       "      <td>1.656154</td>\n",
       "    </tr>\n",
       "    <tr>\n",
       "      <th>6</th>\n",
       "      <td>3.106154</td>\n",
       "      <td>24.363846</td>\n",
       "      <td>5.046154</td>\n",
       "      <td>2.637692</td>\n",
       "      <td>14.632308</td>\n",
       "      <td>2.943077</td>\n",
       "      <td>6.186923</td>\n",
       "      <td>30.267692</td>\n",
       "      <td>4.015385</td>\n",
       "      <td>2.543077</td>\n",
       "      <td>14.130000</td>\n",
       "      <td>2.543846</td>\n",
       "      <td>5.175385</td>\n",
       "      <td>22.535385</td>\n",
       "      <td>4.153846</td>\n",
       "      <td>2.080769</td>\n",
       "      <td>13.590769</td>\n",
       "      <td>2.107692</td>\n",
       "    </tr>\n",
       "    <tr>\n",
       "      <th>7</th>\n",
       "      <td>2.105385</td>\n",
       "      <td>98.964615</td>\n",
       "      <td>5.738462</td>\n",
       "      <td>2.308698</td>\n",
       "      <td>18.036923</td>\n",
       "      <td>3.685385</td>\n",
       "      <td>5.036154</td>\n",
       "      <td>71.567692</td>\n",
       "      <td>4.600000</td>\n",
       "      <td>2.355385</td>\n",
       "      <td>17.380769</td>\n",
       "      <td>1.838462</td>\n",
       "      <td>4.902308</td>\n",
       "      <td>65.590000</td>\n",
       "      <td>4.630769</td>\n",
       "      <td>2.475385</td>\n",
       "      <td>16.711538</td>\n",
       "      <td>1.700000</td>\n",
       "    </tr>\n",
       "  </tbody>\n",
       "</table>\n",
       "</div>"
      ],
      "text/plain": [
       "      ffunds        oil     unemp      infla       earn       baa  \\\n",
       "0   2.637692   2.970000  6.038462   1.167946        NaN  1.189231   \n",
       "1   7.318462   3.350769  4.869231   6.237692   3.396923  1.698462   \n",
       "2  10.575385   9.379231  5.400000   7.431538   4.395385  1.807692   \n",
       "3  13.820000  32.500000  6.300000  11.990000   6.570000  1.620000   \n",
       "4  14.792308  34.346154  8.576923   9.695385   7.687692  2.484615   \n",
       "5   6.953846  24.929231  6.353846   5.253846  10.375385  1.945385   \n",
       "6   3.106154  24.363846  5.046154   2.637692  14.632308  2.943077   \n",
       "7   2.105385  98.964615  5.738462   2.308698  18.036923  3.685385   \n",
       "\n",
       "  1yr_bfr_ffunds 1yr_bfr_oil 1yr_bfr_unemp 1yr_bfr_infla 1yr_bfr_earn  \\\n",
       "0       3.666923    2.970000      5.269231      2.086950          NaN   \n",
       "1       8.036154    3.277692      3.484615      5.746154     3.209231   \n",
       "2       8.090000    3.790769      4.915385      3.306923     4.107692   \n",
       "3      11.396154   23.180769      5.884615      9.893077     6.356923   \n",
       "4      15.320000   37.269231      7.453846     11.104615     7.170769   \n",
       "5       8.516923   19.711538      5.323077      4.607692    10.020000   \n",
       "6       6.186923   30.267692      4.015385      2.543077    14.130000   \n",
       "7       5.036154   71.567692      4.600000      2.355385    17.380769   \n",
       "\n",
       "  1yr_bfr_baa 2yr_bfr_ffunds 2yr_bfr_oil 2yr_bfr_unemp 2yr_bfr_infla  \\\n",
       "0    0.722308       1.842308    3.033077      6.607692           NaN   \n",
       "1    1.146923       5.568462    3.070000      3.576923      4.566923   \n",
       "2    1.409231       4.376154    3.560000      5.692308      3.090769   \n",
       "3    1.276154       8.095385   14.850000      6.053846      7.389231   \n",
       "4    2.168462      12.753846   33.442308      6.476923     11.553846   \n",
       "5    1.746923       8.931538   17.347692      5.300000      4.553846   \n",
       "6    2.543846       5.175385   22.535385      4.153846      2.080769   \n",
       "7    1.838462       4.902308   65.590000      4.630769      2.475385   \n",
       "\n",
       "  2yr_bfr_earn 2yr_bfr_baa  \n",
       "0          NaN    1.173846  \n",
       "1     3.016154    1.285385  \n",
       "2     3.863846    2.060769  \n",
       "3     5.895385    1.074615  \n",
       "4     6.599231    1.807692  \n",
       "5     9.636923    1.656154  \n",
       "6    13.590769    2.107692  \n",
       "7    16.711538    1.700000  "
      ]
     },
     "execution_count": 74,
     "metadata": {},
     "output_type": "execute_result"
    }
   ],
   "source": [
    "bigdata"
   ]
  },
  {
   "cell_type": "code",
   "execution_count": 75,
   "metadata": {},
   "outputs": [],
   "source": [
    "bigdata.to_csv(\"nber.csv\")"
   ]
  },
  {
   "cell_type": "code",
   "execution_count": null,
   "metadata": {},
   "outputs": [],
   "source": []
  },
  {
   "cell_type": "code",
   "execution_count": null,
   "metadata": {},
   "outputs": [],
   "source": []
  },
  {
   "cell_type": "code",
   "execution_count": 78,
   "metadata": {},
   "outputs": [
    {
     "ename": "SyntaxError",
     "evalue": "invalid syntax (<ipython-input-78-d004dd126760>, line 1)",
     "output_type": "error",
     "traceback": [
      "\u001b[1;36m  File \u001b[1;32m\"<ipython-input-78-d004dd126760>\"\u001b[1;36m, line \u001b[1;32m1\u001b[0m\n\u001b[1;33m    pip install git+https://github.com/sat28/githubcommit.git\u001b[0m\n\u001b[1;37m              ^\u001b[0m\n\u001b[1;31mSyntaxError\u001b[0m\u001b[1;31m:\u001b[0m invalid syntax\n"
     ]
    }
   ],
   "source": [
    "pip install git+https://github.com/sat28/githubcommit.git\n",
    "jupyter serverextension enable --py githubcommit\n",
    "jupyter nbextension install --py githubcommit\n"
   ]
  },
  {
   "cell_type": "code",
   "execution_count": 79,
   "metadata": {},
   "outputs": [
    {
     "name": "stdout",
     "output_type": "stream",
     "text": [
      "\n",
      "The following command must be run outside of the IPython shell:\n",
      "\n",
      "    $ pip install git+https://github.com/sat28/githubcommit.git\n",
      "\n",
      "The Python package manager (pip) can only be used from outside of IPython.\n",
      "Please reissue the `pip` command in a separate terminal or command prompt.\n",
      "\n",
      "See the Python documentation for more information on how to install packages:\n",
      "\n",
      "    https://docs.python.org/3/installing/\n"
     ]
    }
   ],
   "source": [
    "pip install git+https://github.com/sat28/githubcommit.git"
   ]
  },
  {
   "cell_type": "code",
   "execution_count": null,
   "metadata": {},
   "outputs": [],
   "source": []
  }
 ],
 "metadata": {
  "kernelspec": {
   "display_name": "Python 3",
   "language": "python",
   "name": "python3"
  },
  "language_info": {
   "codemirror_mode": {
    "name": "ipython",
    "version": 3
   },
   "file_extension": ".py",
   "mimetype": "text/x-python",
   "name": "python",
   "nbconvert_exporter": "python",
   "pygments_lexer": "ipython3",
   "version": "3.6.5"
  }
 },
 "nbformat": 4,
 "nbformat_minor": 2
}
